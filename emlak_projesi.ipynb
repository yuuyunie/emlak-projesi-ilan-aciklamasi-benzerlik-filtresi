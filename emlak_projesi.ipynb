{
 "cells": [
  {
   "cell_type": "code",
   "execution_count": 1,
   "id": "c2aa2608-d00f-48ee-b728-bb5ef6456f0f",
   "metadata": {},
   "outputs": [
    {
     "name": "stdout",
     "output_type": "stream",
     "text": [
      "Requirement already satisfied: nltk in c:\\users\\elif\\anaconda3\\lib\\site-packages (3.9.1)\n",
      "Requirement already satisfied: click in c:\\users\\elif\\anaconda3\\lib\\site-packages (from nltk) (8.1.7)\n",
      "Requirement already satisfied: joblib in c:\\users\\elif\\anaconda3\\lib\\site-packages (from nltk) (1.4.2)\n",
      "Requirement already satisfied: regex>=2021.8.3 in c:\\users\\elif\\anaconda3\\lib\\site-packages (from nltk) (2024.9.11)\n",
      "Requirement already satisfied: tqdm in c:\\users\\elif\\anaconda3\\lib\\site-packages (from nltk) (4.65.0)\n",
      "Requirement already satisfied: colorama in c:\\users\\elif\\anaconda3\\lib\\site-packages (from click->nltk) (0.4.6)\n",
      "Note: you may need to restart the kernel to use updated packages.\n"
     ]
    }
   ],
   "source": [
    "pip install nltk"
   ]
  },
  {
   "cell_type": "code",
   "execution_count": 2,
   "id": "5976f5a7-b8b9-406f-8810-012949360d9a",
   "metadata": {},
   "outputs": [],
   "source": [
    "import pandas as pd"
   ]
  },
  {
   "cell_type": "code",
   "execution_count": 3,
   "id": "b845d12b-46c6-46ab-87ec-69123b78b08a",
   "metadata": {},
   "outputs": [
    {
     "name": "stderr",
     "output_type": "stream",
     "text": [
      "[nltk_data] Downloading package punkt to\n",
      "[nltk_data]     C:\\Users\\Elif\\AppData\\Roaming\\nltk_data...\n",
      "[nltk_data]   Package punkt is already up-to-date!\n",
      "[nltk_data] Error loading avaraged_perceptron_tagger: Package\n",
      "[nltk_data]     'avaraged_perceptron_tagger' not found in index\n",
      "[nltk_data] Downloading package stopwords to\n",
      "[nltk_data]     C:\\Users\\Elif\\AppData\\Roaming\\nltk_data...\n",
      "[nltk_data]   Package stopwords is already up-to-date!\n",
      "[nltk_data] Downloading package wordnet to\n",
      "[nltk_data]     C:\\Users\\Elif\\AppData\\Roaming\\nltk_data...\n",
      "[nltk_data]   Package wordnet is already up-to-date!\n",
      "[nltk_data] Downloading package punkt_tab to\n",
      "[nltk_data]     C:\\Users\\Elif\\AppData\\Roaming\\nltk_data...\n",
      "[nltk_data]   Package punkt_tab is already up-to-date!\n"
     ]
    }
   ],
   "source": [
    "import nltk\n",
    "nltk.download('punkt')\n",
    "nltk.download('avaraged_perceptron_tagger')\n",
    "nltk.download('stopwords')\n",
    "nltk.download('wordnet')\n",
    "nltk.download('punkt_tab')\n",
    "import requests\n",
    "from nltk.tokenize import word_tokenize, sent_tokenize\n",
    "from nltk.stem import WordNetLemmatizer, PorterStemmer\n",
    "from nltk.corpus import stopwords\n",
    "import csv\n",
    "\n",
    "data = pd.read_csv(\"emlakjetodev.csv\")"
   ]
  },
  {
   "cell_type": "code",
   "execution_count": 4,
   "id": "9ebab9d1-9dd3-4b78-9c42-6b843a5c86f6",
   "metadata": {},
   "outputs": [
    {
     "data": {
      "text/html": [
       "<div>\n",
       "<style scoped>\n",
       "    .dataframe tbody tr th:only-of-type {\n",
       "        vertical-align: middle;\n",
       "    }\n",
       "\n",
       "    .dataframe tbody tr th {\n",
       "        vertical-align: top;\n",
       "    }\n",
       "\n",
       "    .dataframe thead th {\n",
       "        text-align: right;\n",
       "    }\n",
       "</style>\n",
       "<table border=\"1\" class=\"dataframe\">\n",
       "  <thead>\n",
       "    <tr style=\"text-align: right;\">\n",
       "      <th></th>\n",
       "      <th>ilanaciklama</th>\n",
       "    </tr>\n",
       "  </thead>\n",
       "  <tbody>\n",
       "    <tr>\n",
       "      <th>0</th>\n",
       "      <td>ÇEŞME AYASARANDA MEVKİİNDE FULL DENİZ MANZARAL...</td>\n",
       "    </tr>\n",
       "    <tr>\n",
       "      <th>1</th>\n",
       "      <td>ÇEŞME DALYAN MAHALLESİNDE  DALYAN MARİNAYA,PLA...</td>\n",
       "    </tr>\n",
       "    <tr>\n",
       "      <th>2</th>\n",
       "      <td>ÇEŞME AYASARANDA MEVKİİNDE 712 RESİDENCE DA ÖZ...</td>\n",
       "    </tr>\n",
       "    <tr>\n",
       "      <th>3</th>\n",
       "      <td>ÇEŞME MUSALLA'DA MARİNAYA YÜRÜME MESAFESİNDE S...</td>\n",
       "    </tr>\n",
       "    <tr>\n",
       "      <th>4</th>\n",
       "      <td>ÇEŞME ŞİFNE YALI BÖLGESİNDE302 ARSA PAYLI5+2 2...</td>\n",
       "    </tr>\n",
       "    <tr>\n",
       "      <th>5</th>\n",
       "      <td>COLDWELL BANKER POYRAZ GAYRİMENKULMENDERES'İN ...</td>\n",
       "    </tr>\n",
       "    <tr>\n",
       "      <th>6</th>\n",
       "      <td>ERTUĞLURDA\\nKUPON  ACİL SATILIK  3+1 DAİRE</td>\n",
       "    </tr>\n",
       "    <tr>\n",
       "      <th>7</th>\n",
       "      <td>Dairemiz önder cad satılık  esyali olarak sati...</td>\n",
       "    </tr>\n",
       "    <tr>\n",
       "      <th>8</th>\n",
       "      <td>Gaziemir beyazevlerde yer alan müstakil villam...</td>\n",
       "    </tr>\n",
       "    <tr>\n",
       "      <th>9</th>\n",
       "      <td>Egekent'te bağımsız tek blokta,5.kat,3+1,Doğal...</td>\n",
       "    </tr>\n",
       "  </tbody>\n",
       "</table>\n",
       "</div>"
      ],
      "text/plain": [
       "                                        ilanaciklama\n",
       "0  ÇEŞME AYASARANDA MEVKİİNDE FULL DENİZ MANZARAL...\n",
       "1  ÇEŞME DALYAN MAHALLESİNDE  DALYAN MARİNAYA,PLA...\n",
       "2  ÇEŞME AYASARANDA MEVKİİNDE 712 RESİDENCE DA ÖZ...\n",
       "3  ÇEŞME MUSALLA'DA MARİNAYA YÜRÜME MESAFESİNDE S...\n",
       "4  ÇEŞME ŞİFNE YALI BÖLGESİNDE302 ARSA PAYLI5+2 2...\n",
       "5  COLDWELL BANKER POYRAZ GAYRİMENKULMENDERES'İN ...\n",
       "6        ERTUĞLURDA\\nKUPON  ACİL SATILIK  3+1 DAİRE \n",
       "7  Dairemiz önder cad satılık  esyali olarak sati...\n",
       "8  Gaziemir beyazevlerde yer alan müstakil villam...\n",
       "9  Egekent'te bağımsız tek blokta,5.kat,3+1,Doğal..."
      ]
     },
     "execution_count": 4,
     "metadata": {},
     "output_type": "execute_result"
    }
   ],
   "source": [
    "data.head(10)"
   ]
  },
  {
   "cell_type": "code",
   "execution_count": 5,
   "id": "02fa8b38-1b28-48ea-8b04-55705ce144cd",
   "metadata": {},
   "outputs": [
    {
     "data": {
      "text/plain": [
       "['ÇEŞME AYASARANDA MEVKİİNDE FULL DENİZ MANZARALI OLUP ÖNÜ KAPANMAZ MUHTEŞEM SAKIZ ADASI MANZARALI 2+1 , 1+1 BAHÇELİ VE TERASLI DAİRELERDEN OLUŞAN PROJEDE KAPALI OTOPARK SPOR SALONU 7/24 GÜVENLİK AKILLI VE KONTROL MAKENİZMALI EV KONTROL SİSTEMİ VE\\xa0 SONSUZLUK HAVUZU SİZLERİ BEKLİYOR.',\n",
       " '4 BLOKTAN OLUŞAN PROJEDE\\xa0 SINIRLI SAYIDA DAİRELERİMİZ KALMIŞTIR.',\n",
       " 'DAİRELERİMİZ KONUMLARINA GÖRE FİYAT FARKLILIĞI GÖSTERMEKTEDİR.',\n",
       " 'PROJEMİZ RESİNDENCE NİTELİĞİNDE OLUP HİSSE TAPULU OLARAK SATIŞ OLACAĞI İÇİN KREDİYE UYGUN DEĞİLDİR.',\n",
       " 'AİDAT ÖDEMESİ AYLIK 2.500 TL DİR.',\n",
       " 'LÜTFEN DETAYLI BİLGİ İÇİN ARAYINIZ.',\n",
       " 'ÇEŞME ATİLLA EMLAK',\n",
       " 'ÇEŞME DALYAN MAHALLESİNDE\\xa0 DALYAN MARİNAYA,PLAJLARA,MARKETLERE,DOLMUŞLARA YAKIN\\xa0 KALORİFERLİ\\xa0 YAZ KIŞ OTURMAYA UYGUN 2 ODA 1 SALON\\xa0 SIFIR SATILIK DAİRE\\xa0 DETAYLI BİLGİ VE RANDEVU İÇİN LÜTFEN ARAYINIZ.',\n",
       " 'ÇEŞME ATİLLA EMLAK',\n",
       " 'ÇEŞME AYASARANDA MEVKİİNDE 712 RESİDENCE DA ÖZEL YAPIM SATILIK 2+1 DUBLEX DAİRERESIDENCE DAİREMİZ ÖZEL DİZAYN EDİLMİŞ OLUP,80M2 NET KULLANIM ALANINA SAHİPTİR.EVDE ÖZEL AJAX ALARM SİTEMİ MEVCUTTUR.MUTFAK VE TEZGAHI İTHAL MALZEMEDEN ÖZEL YAPTIRILMIŞTIR.DAİREMİZDE ANA SU HATTINDAN GİRİŞTE AYRICA İÇME SUYU ARITMASI MEVCUTTUR.AYRICA 17M2 ÖZEL DİZAYN EDİLMİŞ GİYİM ODASI OLARAK TASARLANAN KARAVAN MEVCUTTUR.ÖNÜNDE 24M2 İTHAL DEK KAPILIDIR.AYRICA OTOMATİK ALBERT GENAU PERGOLA ÜST AÇILIR MEVCUTTUR.YAN CAMLAR SÜRGÜLÜ SİSTEM,ÜSÜTÜNDE TÜM KAPI VE PENCERELERDE SİNEKLİK VARDIR.EŞYALAR FİYATA DAİL DEĞİLDİR.',\n",
       " \"ÇEŞME MUSALLA'DA MARİNAYA YÜRÜME MESAFESİNDE SATILIK LÜKS SIFIR 1+1 DAİRE TOPLAM 2417 M2 ARSA ÜZERİNDE 2 BLOKTAN OLUŞAN HAVUZLU MODERN SİTE İÇERİSİNDEDİR.\",\n",
       " 'PROJE TOPLAM 24 DAİRE İÇERMEKTEDİR.',\n",
       " 'PROJE DE 1+1, 2+1 VE 3+1 DAİRE SEÇENEKLERİ BULUNMAKTADIR.',\n",
       " \"1500 M2 BODRUM KATTA KAPALI OTOPARK ALANI VE HER DAİREYE AİT 5-9 M2'LİK DEPO ALANI GÖREVLİ DAİRESİ VE TEKNİK ALANLAR HAVUZ ALANI (250M2) VE PEYZAJ ALANI BRÜT YAŞAM ALANI 63 M2, NET KAPALI KULLANIM ALANI 55 M2 SALON, AÇIK MUTFAK, 1 ADET YATAK ODASI, GENEL BANYO VE BALKON ALANI\\u200b ASANSÖRLÜ GÜVENLİKLİ KAMERA SİSTEMİ-YANGIN ALARMI VE HAREKET SENSÖRÜ OTOMATİK PANJURLU-SİNEKLİKLİ LİNEA ROSSA 1.\",\n",
       " 'SINIF DOĞRAMALAR BANYO DA VİTRA VE GROHE MARKA 1.',\n",
       " 'SINIF BATARYA VE EVYE MUTFAK DA SIEMENS MARKA ANKASTRE SETİ VE BULAŞIK MAKİNASI YATAK ODALARINDA SAMSUNG KLİMA SALONDA VRV ISITMA-SOĞUTMA SİSTEMİ YATAK ODALARINDA GÖMME DOLAP AKILLI EV OTOMASYONU VESTİYER ALANI VE ÇAMAŞIR-KURUTMA MAKİNASI ALANI DETAYLI BİLGİ VE RANDEVU TALEBİ İÇİN LÜTFEN İLETİŞİME GEÇİNİZ.',\n",
       " 'ÇEŞME ŞİFNE YALI BÖLGESİNDE302 ARSA PAYLI5+2 280M2 BRÜT 180M2 NET KULLANIM ALANLIMÜSTAKİL VİLLAMIZ ŞÖMİNELİ OLUP MÜSTAKİL HAVUZLUDUR',\n",
       " \"COLDWELL BANKER POYRAZ GAYRİMENKULMENDERES'İN EN HUZURLU MAHALLESİ BARBAROS'TA,MÜSTAKİL YAŞAMIN TADINI ÇIKARACAĞINIZ, HAVUZLU NEZİH SİTE İÇERİSİNDEKİ VİLLAMIZIN ÖZELLİKLERİ;\\u200b*MÜSTAKİL GİRİŞ ÇIKIŞ İMKANI,*4 ODA 1 AÇIK MUTFAK SALON,*EN ALT KATTA WC,*2.KATTA 2 ODA*3.KATTA 2 ODA,*LED VE SPOT AYDINLATMALI,*3'LÜ ANKASTRE SET,*TÜM ODALARI AYDINLIK GENİŞ VE KULLANIŞLI,*EBEVEYN BANYOLU,*MÜSTAKİL BAHÇELİ,*YAZ KIŞ KULLANIMA UYGUN CAMLAMA İLE KAPATILMIŞ VARENDA,*MERDİVEN ÇIKIŞLARINDA ÇOCUK EMNİYET KAPISI,*OTOMATİK PANJUR,*ARTEZYEN,HİDRAFOR,*SİTE İÇİ ORTAK KULLANIM YEŞİL ALANLARVİLLAMIZ HAKKINDA DETAYLI BİLGİ ALMAK İÇİN LÜTFEN İLETİŞİME GEÇİNİZ..ASLI ÖZ\",\n",
       " 'ERTUĞLURDA\\nKUPON\\xa0 ACİL SATILIK\\xa0 3+1 DAİRE',\n",
       " 'Dairemiz önder cad satılık\\xa0 esyali olarak satiliktir.']"
      ]
     },
     "execution_count": 5,
     "metadata": {},
     "output_type": "execute_result"
    }
   ],
   "source": [
    "#cümleleri ayırmak için\n",
    "text = data['ilanaciklama'].dropna().tolist()\n",
    "\n",
    "sentences = sum([sent_tokenize(t) for t in text], [])\n",
    "sentences[:20]"
   ]
  },
  {
   "cell_type": "code",
   "execution_count": 6,
   "id": "f015ef5c-db4d-4c89-846e-3a2d118139a4",
   "metadata": {},
   "outputs": [
    {
     "name": "stdout",
     "output_type": "stream",
     "text": [
      "['mü', 'de', 'gibi', 'niçin', 'sanki', 'birşey', 'hep', 'nerede', 'bazı', 'tüm', 'ya', 'hiç', 'az', 'nereye', 'hepsi', 'ki', 'en', 'çok', 'neden', 'şu', 'biri', 'bu', 'acaba', 'diye', 'ise', 'birkaç', 'yani', 'defa', 'kim', 'da', 'o', 'mı', 'şey', 'niye', 'çünkü', 'daha', 'biz', 'siz', 'mu', 'her']\n"
     ]
    }
   ],
   "source": [
    "#stopwords listesi alma\n",
    "\n",
    "stop_words = set(stopwords.words('turkish'))\n",
    "stop_words_list = list(stop_words)\n",
    "print(stop_words_list[:40])"
   ]
  },
  {
   "cell_type": "code",
   "execution_count": 7,
   "id": "910e7a48-51b2-47e7-a68c-6c086fa7be4a",
   "metadata": {},
   "outputs": [
    {
     "data": {
      "text/plain": [
       "{'acaba',\n",
       " 'ama',\n",
       " 'aslında',\n",
       " 'az',\n",
       " 'bazı',\n",
       " 'belki',\n",
       " 'biri',\n",
       " 'birkaç',\n",
       " 'birşey',\n",
       " 'biz',\n",
       " 'bu',\n",
       " 'da',\n",
       " 'daha',\n",
       " 'de',\n",
       " 'defa',\n",
       " 'diye',\n",
       " 'en',\n",
       " 'eğer',\n",
       " 'gibi',\n",
       " 'hem',\n",
       " 'hep',\n",
       " 'hepsi',\n",
       " 'her',\n",
       " 'hiç',\n",
       " 'ile',\n",
       " 'ise',\n",
       " 'için',\n",
       " 'kez',\n",
       " 'ki',\n",
       " 'kim',\n",
       " 'mu',\n",
       " 'mü',\n",
       " 'mı',\n",
       " 'nasıl',\n",
       " 'ne',\n",
       " 'neden',\n",
       " 'nerde',\n",
       " 'nerede',\n",
       " 'nereye',\n",
       " 'niye',\n",
       " 'niçin',\n",
       " 'o',\n",
       " 'sanki',\n",
       " 'siz',\n",
       " 'tüm',\n",
       " 've',\n",
       " 'veya',\n",
       " 'ya',\n",
       " 'yani',\n",
       " 'çok',\n",
       " 'çünkü',\n",
       " 'şey',\n",
       " 'şu'}"
      ]
     },
     "execution_count": 7,
     "metadata": {},
     "output_type": "execute_result"
    }
   ],
   "source": [
    "stop_words"
   ]
  },
  {
   "cell_type": "code",
   "execution_count": 8,
   "id": "408a0967-3644-48b3-881d-2eeea6a406db",
   "metadata": {},
   "outputs": [],
   "source": [
    "#lemmatizer ve stemmer başlatma\n",
    "lemmatizer = WordNetLemmatizer()\n",
    "stemmer = PorterStemmer()"
   ]
  },
  {
   "cell_type": "code",
   "execution_count": 10,
   "id": "fa6dcf83-c47e-4233-aac9-a919d583d894",
   "metadata": {},
   "outputs": [],
   "source": [
    "#kelimleri tokenleme, lematize et ve stemle\n",
    "def preprocess_sentence(sentence):\n",
    "    tokens = word_tokenize(sentence)  # Cümleyi kelimelere ayır\n",
    "    #sadece harf olan kelimeleri al ve stopword'leri çıkar\n",
    "    filtered_tokens = [token.lower() for token in tokens if token.isalpha() and token.lower() not in stop_words]\n",
    "    \n",
    "    lemmatized_tokens = [lemmatizer.lemmatize(token) for token in filtered_tokens]  #lemmatize etme\n",
    "    stemmed_tokens = [stemmer.stem(token) for token in filtered_tokens]  #stemleme\n",
    "    \n",
    "    return lemmatized_tokens, stemmed_tokens"
   ]
  },
  {
   "cell_type": "code",
   "execution_count": 11,
   "id": "c2b14d15-0fa0-4122-8e1d-be9a1d097953",
   "metadata": {},
   "outputs": [],
   "source": [
    "#üstün devamı\n",
    "tokenized_corpus_lemmatized = []\n",
    "tokenized_corpus_stemmed = []"
   ]
  },
  {
   "cell_type": "code",
   "execution_count": 12,
   "id": "045942d2-2927-4892-8c4c-41f0f3702674",
   "metadata": {},
   "outputs": [
    {
     "name": "stdout",
     "output_type": "stream",
     "text": [
      "[['çeşme', 'ayasaranda', 'mevki̇i̇nde', 'full', 'deni̇z', 'manzarali', 'olup', 'önü', 'kapanmaz', 'muhteşem', 'sakiz', 'adasi', 'manzarali', 'bahçeli̇', 'terasli', 'dai̇relerden', 'oluşan', 'projede', 'kapali', 'otopark', 'spor', 'salonu', 'güvenli̇k', 'akilli', 'kontrol', 'makeni̇zmali', 'ev', 'kontrol', 'si̇stemi̇', 'sonsuzluk', 'havuzu', 'si̇zleri̇', 'bekli̇yor'], ['bloktan', 'oluşan', 'projede', 'sinirli', 'sayida', 'dai̇releri̇mi̇z', 'kalmiştir'], ['dai̇releri̇mi̇z', 'konumlarina', 'göre', 'fi̇yat', 'farkliliği', 'göstermektedi̇r'], ['projemi̇z', 'resi̇ndence', 'ni̇teli̇ği̇nde', 'olup', 'hi̇sse', 'tapulu', 'olarak', 'satiş', 'olacaği', 'i̇çi̇n', 'kredi̇ye', 'uygun', 'deği̇ldi̇r'], ['ai̇dat', 'ödemesi̇', 'aylik', 'tl', 'di̇r'], ['lütfen', 'detayli', 'bi̇lgi̇', 'i̇çi̇n', 'arayiniz'], ['çeşme', 'ati̇lla', 'emlak'], ['çeşme', 'dalyan', 'mahallesi̇nde', 'dalyan', 'mari̇naya', 'plajlara', 'marketlere', 'dolmuşlara', 'yakin', 'kalori̇ferli̇', 'yaz', 'kiş', 'oturmaya', 'uygun', 'oda', 'salon', 'sifir', 'satilik', 'dai̇re', 'detayli', 'bi̇lgi̇', 'randevu', 'i̇çi̇n', 'lütfen', 'arayiniz'], ['çeşme', 'ati̇lla', 'emlak'], ['çeşme', 'ayasaranda', 'mevki̇i̇nde', 'resi̇dence', 'özel', 'yapim', 'satilik', 'dublex', 'dai̇reresidence', 'dai̇remi̇z', 'özel', 'di̇zayn', 'edi̇lmi̇ş', 'net', 'kullanim', 'alanina', 'özel', 'ajax', 'alarm', 'si̇temi̇', 'tezgahi', 'i̇thal', 'malzemeden', 'özel', 'ana', 'su', 'hattindan', 'gi̇ri̇şte', 'ayrica', 'i̇çme', 'suyu', 'aritmasi', 'özel', 'di̇zayn', 'edi̇lmi̇ş', 'gi̇yi̇m', 'odasi', 'olarak', 'tasarlanan', 'karavan', 'i̇thal', 'dek', 'otomati̇k', 'albert', 'genau', 'pergola', 'üst', 'açilir', 'camlar', 'sürgülü', 'si̇stem', 'üsütünde', 'kapi', 'pencerelerde', 'si̇nekli̇k', 'fi̇yata', 'dai̇l', 'deği̇ldi̇r']]\n"
     ]
    }
   ],
   "source": [
    "filtered_sentences = []\n",
    "\n",
    "for sentence in sentences:\n",
    "    tokens = word_tokenize(sentence)  #cümleleri kelimelere böler\n",
    "\n",
    "    filtered_tokens = []   #bos liste olusturur\n",
    "    for token in tokens:\n",
    "        if token.isalpha(): #tokenler metin mi diye kontrol eder(numerik ise işleme hiç almıyor)\n",
    "            token_lower = token.lower()  #küçük harfe çevirme\n",
    "            if token_lower not in stop_words:   #eğer küçük harfe çevrilmiş bu kelimeler stopword listesi içinden bir kelime değilse\n",
    "                filtered_tokens.append(token_lower) #filtered_tokens listesine yukarıdaki kriterleri sağlayan kelimeleri ekle\n",
    "\n",
    "    filtered_sentences.append(filtered_tokens)  #filtre edilmiş cümleleri filtered_sentences listesine ekle\n",
    "print(filtered_sentences[:10])"
   ]
  },
  {
   "cell_type": "code",
   "execution_count": 13,
   "id": "6fefed13-e9cb-43d4-888c-5d183fef74a4",
   "metadata": {},
   "outputs": [
    {
     "name": "stdout",
     "output_type": "stream",
     "text": [
      "[['çeşme', 'ayasaranda', 'mevki̇i̇nde', 'full', 'deni̇z', 'manzarali', 'olup', 'önü', 'kapanmaz', 'muhteşem', 'sakiz', 'adasi', 'manzarali', 'bahçeli̇', 'terasli', 'dai̇relerden', 'oluşan', 'projede', 'kapali', 'otopark', 'spor', 'salonu', 'güvenli̇k', 'akilli', 'kontrol', 'makeni̇zmali', 'ev', 'kontrol', 'si̇stemi̇', 'sonsuzluk', 'havuzu', 'si̇zleri̇', 'bekli̇yor'], ['bloktan', 'oluşan', 'projede', 'sinirli', 'sayida', 'dai̇releri̇mi̇z', 'kalmiştir'], ['dai̇releri̇mi̇z', 'konumlarina', 'göre', 'fi̇yat', 'farkliliği', 'göstermektedi̇r'], ['projemi̇z', 'resi̇ndence', 'ni̇teli̇ği̇nde', 'olup', 'hi̇sse', 'tapulu', 'olarak', 'satiş', 'olacaği', 'i̇çi̇n', 'kredi̇ye', 'uygun', 'deği̇ldi̇r'], ['ai̇dat', 'ödemesi̇', 'aylik', 'tl', 'di̇r'], ['lütfen', 'detayli', 'bi̇lgi̇', 'i̇çi̇n', 'arayiniz'], ['çeşme', 'ati̇lla', 'emlak'], ['çeşme', 'dalyan', 'mahallesi̇nde', 'dalyan', 'mari̇naya', 'plajlara', 'marketlere', 'dolmuşlara', 'yakin', 'kalori̇ferli̇', 'yaz', 'kiş', 'oturmaya', 'uygun', 'oda', 'salon', 'sifir', 'satilik', 'dai̇re', 'detayli', 'bi̇lgi̇', 'randevu', 'i̇çi̇n', 'lütfen', 'arayiniz'], ['çeşme', 'ati̇lla', 'emlak'], ['çeşme', 'ayasaranda', 'mevki̇i̇nde', 'resi̇dence', 'özel', 'yapim', 'satilik', 'dublex', 'dai̇reresidence', 'dai̇remi̇z', 'özel', 'di̇zayn', 'edi̇lmi̇ş', 'net', 'kullanim', 'alanina', 'özel', 'ajax', 'alarm', 'si̇temi̇', 'tezgahi', 'i̇thal', 'malzemeden', 'özel', 'ana', 'su', 'hattindan', 'gi̇ri̇şte', 'ayrica', 'i̇çme', 'suyu', 'aritmasi', 'özel', 'di̇zayn', 'edi̇lmi̇ş', 'gi̇yi̇m', 'odasi', 'olarak', 'tasarlanan', 'karavan', 'i̇thal', 'dek', 'otomati̇k', 'albert', 'genau', 'pergola', 'üst', 'açilir', 'camlar', 'sürgülü', 'si̇stem', 'üsütünde', 'kapi', 'pencerelerde', 'si̇nekli̇k', 'fi̇yata', 'dai̇l', 'deği̇ldi̇r']]\n"
     ]
    }
   ],
   "source": [
    "#her cümleyi lemmatize et\n",
    "lemmatizer = WordNetLemmatizer()   #lemmatizeri başlat\n",
    "tokenized_corpus_lemmatized = []   #lemma  edilmiş cümleleri saklamak için boş bir liste oluştur\n",
    "\n",
    "for filtered_tokens in filtered_sentences:\n",
    "    lemmatized_tokens = []  #lemma  edilmiş tokenlerı(kelime) saklamak için boş bir liste oluştur\n",
    "    for token in filtered_tokens:\n",
    "        lemma = lemmatizer.lemmatize(token)   #tokenlerı tek tek lemma  etme işlemi\n",
    "        lemmatized_tokens.append(lemma)      #lemma  edilmiş tokenlerı lemmatized_tokens listesine ekle\n",
    "\n",
    "    tokenized_corpus_lemmatized.append(lemmatized_tokens)  #Lemma  edilmiş cümeleleri tokenized_corpus_lemmatized listesine ekle\n",
    "print(tokenized_corpus_lemmatized[:10])"
   ]
  },
  {
   "cell_type": "code",
   "execution_count": 14,
   "id": "ea1c3e6f-70c7-410b-8f89-9ad77e628455",
   "metadata": {},
   "outputs": [],
   "source": [
    "with open(r\"C:\\Users\\Elif\\desktop\\metin_verileri_ile_metin_işleme\\lemmatized_sentences.csv\", mode=\"w\", newline=\"\", encoding=\"utf-8\") as file:\n",
    "    writer = csv.writer(file)\n",
    "\n",
    "    # Her cümleyi bir satır olarak yaz\n",
    "    for tokens in tokenized_corpus_lemmatized:\n",
    "        writer.writerow([' '.join(tokens)])"
   ]
  },
  {
   "cell_type": "code",
   "execution_count": 15,
   "id": "44e03c0a-8def-424b-a1ee-3fcc694ec646",
   "metadata": {},
   "outputs": [
    {
     "name": "stdout",
     "output_type": "stream",
     "text": [
      "[['çeşm', 'ayasaranda', 'mevki̇i̇nd', 'full', 'deni̇z', 'manzarali', 'olup', 'önü', 'kapanmaz', 'muhteşem', 'sakiz', 'adasi', 'manzarali', 'bahçeli̇', 'terasli', 'dai̇relerden', 'oluşan', 'projed', 'kapali', 'otopark', 'spor', 'salonu', 'güvenli̇k', 'akilli', 'kontrol', 'makeni̇zmali', 'ev', 'kontrol', 'si̇stemi̇', 'sonsuzluk', 'havuzu', 'si̇zleri̇', 'bekli̇yor'], ['bloktan', 'oluşan', 'projed', 'sinirli', 'sayida', 'dai̇releri̇mi̇z', 'kalmiştir'], ['dai̇releri̇mi̇z', 'konumlarina', 'göre', 'fi̇yat', 'farkliliği', 'göstermektedi̇r'], ['projemi̇z', 'resi̇nd', 'ni̇teli̇ği̇nd', 'olup', 'hi̇ss', 'tapulu', 'olarak', 'satiş', 'olacaği', 'i̇çi̇n', 'kredi̇y', 'uygun', 'deği̇ldi̇r'], ['ai̇dat', 'ödemesi̇', 'aylik', 'tl', 'di̇r'], ['lütfen', 'detayli', 'bi̇lgi̇', 'i̇çi̇n', 'arayiniz'], ['çeşm', 'ati̇lla', 'emlak'], ['çeşm', 'dalyan', 'mahallesi̇nd', 'dalyan', 'mari̇naya', 'plajlara', 'marketler', 'dolmuşlara', 'yakin', 'kalori̇ferli̇', 'yaz', 'kiş', 'oturmaya', 'uygun', 'oda', 'salon', 'sifir', 'satilik', 'dai̇r', 'detayli', 'bi̇lgi̇', 'randevu', 'i̇çi̇n', 'lütfen', 'arayiniz'], ['çeşm', 'ati̇lla', 'emlak'], ['çeşm', 'ayasaranda', 'mevki̇i̇nd', 'resi̇d', 'özel', 'yapim', 'satilik', 'dublex', 'dai̇reresid', 'dai̇remi̇z', 'özel', 'di̇zayn', 'edi̇lmi̇ş', 'net', 'kullanim', 'alanina', 'özel', 'ajax', 'alarm', 'si̇temi̇', 'tezgahi', 'i̇thal', 'malzemeden', 'özel', 'ana', 'su', 'hattindan', 'gi̇ri̇şt', 'ayrica', 'i̇çm', 'suyu', 'aritmasi', 'özel', 'di̇zayn', 'edi̇lmi̇ş', 'gi̇yi̇m', 'odasi', 'olarak', 'tasarlanan', 'karavan', 'i̇thal', 'dek', 'otomati̇k', 'albert', 'genau', 'pergola', 'üst', 'açilir', 'camlar', 'sürgülü', 'si̇stem', 'üsütünde', 'kapi', 'pencerelerd', 'si̇nekli̇k', 'fi̇yata', 'dai̇l', 'deği̇ldi̇r']]\n"
     ]
    }
   ],
   "source": [
    "#her cümleyi stemmleme\n",
    "stemmer = PorterStemmer() #stemmeri başlat\n",
    "tokenized_corpus_stemmed = []   #stem  edilmiş cümleleri saklamak için boş bir liste oluşturur\n",
    "\n",
    "for filtered_tokens in filtered_sentences:\n",
    "    stemmed_tokens = []    #stem  edilmiş tokenlerı(kelime) saklamak için boş bir liste oluştur\n",
    "    for token in filtered_tokens:\n",
    "        stem = stemmer.stem(token)     #tokenlerı tek tek stem etme işlemi\n",
    "        stemmed_tokens.append(stem)    #stem  edilmiş tokenlerı stemmed_tokens listesine ekle\n",
    "\n",
    "    tokenized_corpus_stemmed.append(stemmed_tokens)  #stem  edilmiş cümeleleri tokenized_corpus_stemmed listesine ekle\n",
    "print(tokenized_corpus_stemmed[:10])"
   ]
  },
  {
   "cell_type": "code",
   "execution_count": 31,
   "id": "870f7a88-d109-43be-87ef-28cbd556861a",
   "metadata": {},
   "outputs": [],
   "source": [
    "#stem edilmiş cümleleri csv formatında kaydetme\n",
    "with open(r\"C:\\Users\\Elif\\desktop\\metin_verileri_ile_metin_işleme\\stemmed_sentences.csv\", mode=\"w\", newline=\"\", encoding=\"utf-8\") as file:\n",
    "    writer = csv.writer(file)\n",
    "\n",
    "    # Her cümleyi bir satır olarak yaz\n",
    "    for tokens in tokenized_corpus_stemmed:\n",
    "        writer.writerow([' '.join(tokens)])"
   ]
  },
  {
   "cell_type": "code",
   "execution_count": 17,
   "id": "04bcfccf-5864-4470-84df-72bac0961d84",
   "metadata": {},
   "outputs": [
    {
     "name": "stdout",
     "output_type": "stream",
     "text": [
      "Cümle 1 - Base: ÇEŞME AYASARANDA MEVKİİNDE FULL DENİZ MANZARALI OLUP ÖNÜ KAPANMAZ MUHTEŞEM SAKIZ ADASI MANZARALI 2+1 , 1+1 BAHÇELİ VE TERASLI DAİRELERDEN OLUŞAN PROJEDE KAPALI OTOPARK SPOR SALONU 7/24 GÜVENLİK AKILLI VE KONTROL MAKENİZMALI EV KONTROL SİSTEMİ VE  SONSUZLUK HAVUZU SİZLERİ BEKLİYOR.\n",
      "Cümle 1 - Lemmatized: ['çeşme', 'ayasaranda', 'mevki̇i̇nde', 'full', 'deni̇z', 'manzarali', 'olup', 'önü', 'kapanmaz', 'muhteşem', 'sakiz', 'adasi', 'manzarali', 'bahçeli̇', 'terasli', 'dai̇relerden', 'oluşan', 'projede', 'kapali', 'otopark', 'spor', 'salonu', 'güvenli̇k', 'akilli', 'kontrol', 'makeni̇zmali', 'ev', 'kontrol', 'si̇stemi̇', 'sonsuzluk', 'havuzu', 'si̇zleri̇', 'bekli̇yor']\n",
      "Cümle 1 - Stemmed: ['çeşm', 'ayasaranda', 'mevki̇i̇nd', 'full', 'deni̇z', 'manzarali', 'olup', 'önü', 'kapanmaz', 'muhteşem', 'sakiz', 'adasi', 'manzarali', 'bahçeli̇', 'terasli', 'dai̇relerden', 'oluşan', 'projed', 'kapali', 'otopark', 'spor', 'salonu', 'güvenli̇k', 'akilli', 'kontrol', 'makeni̇zmali', 'ev', 'kontrol', 'si̇stemi̇', 'sonsuzluk', 'havuzu', 'si̇zleri̇', 'bekli̇yor']\n",
      "\n",
      "\n",
      "Cümle 2 - Base: 4 BLOKTAN OLUŞAN PROJEDE  SINIRLI SAYIDA DAİRELERİMİZ KALMIŞTIR.\n",
      "Cümle 2 - Lemmatized: ['bloktan', 'oluşan', 'projede', 'sinirli', 'sayida', 'dai̇releri̇mi̇z', 'kalmiştir']\n",
      "Cümle 2 - Stemmed: ['bloktan', 'oluşan', 'projed', 'sinirli', 'sayida', 'dai̇releri̇mi̇z', 'kalmiştir']\n",
      "\n",
      "\n",
      "Cümle 3 - Base: DAİRELERİMİZ KONUMLARINA GÖRE FİYAT FARKLILIĞI GÖSTERMEKTEDİR.\n",
      "Cümle 3 - Lemmatized: ['dai̇releri̇mi̇z', 'konumlarina', 'göre', 'fi̇yat', 'farkliliği', 'göstermektedi̇r']\n",
      "Cümle 3 - Stemmed: ['dai̇releri̇mi̇z', 'konumlarina', 'göre', 'fi̇yat', 'farkliliği', 'göstermektedi̇r']\n",
      "\n",
      "\n",
      "Cümle 4 - Base: PROJEMİZ RESİNDENCE NİTELİĞİNDE OLUP HİSSE TAPULU OLARAK SATIŞ OLACAĞI İÇİN KREDİYE UYGUN DEĞİLDİR.\n",
      "Cümle 4 - Lemmatized: ['projemi̇z', 'resi̇ndence', 'ni̇teli̇ği̇nde', 'olup', 'hi̇sse', 'tapulu', 'olarak', 'satiş', 'olacaği', 'i̇çi̇n', 'kredi̇ye', 'uygun', 'deği̇ldi̇r']\n",
      "Cümle 4 - Stemmed: ['projemi̇z', 'resi̇nd', 'ni̇teli̇ği̇nd', 'olup', 'hi̇ss', 'tapulu', 'olarak', 'satiş', 'olacaği', 'i̇çi̇n', 'kredi̇y', 'uygun', 'deği̇ldi̇r']\n",
      "\n",
      "\n",
      "Cümle 5 - Base: AİDAT ÖDEMESİ AYLIK 2.500 TL DİR.\n",
      "Cümle 5 - Lemmatized: ['ai̇dat', 'ödemesi̇', 'aylik', 'tl', 'di̇r']\n",
      "Cümle 5 - Stemmed: ['ai̇dat', 'ödemesi̇', 'aylik', 'tl', 'di̇r']\n",
      "\n",
      "\n"
     ]
    }
   ],
   "source": [
    "for i in range(5):\n",
    "    print(f\"Cümle {i+1} - Base: {sentences[i]}\")   #cumlelerın ılk hallerı-metınde goruldugu hallerı (ham verı)\n",
    "    print(f\"Cümle {i+1} - Lemmatized: {tokenized_corpus_lemmatized[i]}\")  #cumlelerın lema hallerı \n",
    "    print(f\"Cümle {i+1} - Stemmed: {tokenized_corpus_stemmed[i]}\")  #cumlelerın Stem hallerı \n",
    "    print(\"\\n\")"
   ]
  },
  {
   "cell_type": "code",
   "execution_count": 18,
   "id": "d9682d49-0d99-438a-98d6-14761cb54e83",
   "metadata": {},
   "outputs": [
    {
     "data": {
      "text/html": [
       "<div>\n",
       "<style scoped>\n",
       "    .dataframe tbody tr th:only-of-type {\n",
       "        vertical-align: middle;\n",
       "    }\n",
       "\n",
       "    .dataframe tbody tr th {\n",
       "        vertical-align: top;\n",
       "    }\n",
       "\n",
       "    .dataframe thead th {\n",
       "        text-align: right;\n",
       "    }\n",
       "</style>\n",
       "<table border=\"1\" class=\"dataframe\">\n",
       "  <thead>\n",
       "    <tr style=\"text-align: right;\">\n",
       "      <th></th>\n",
       "      <th>çeşme ayasaranda mevki̇i̇nde full deni̇z manzarali olup önü kapanmaz muhteşem sakiz adasi manzarali bahçeli̇ terasli dai̇relerden oluşan projede kapali otopark spor salonu güvenli̇k akilli kontrol makeni̇zmali ev kontrol si̇stemi̇ sonsuzluk havuzu si̇zleri̇ bekli̇yor</th>\n",
       "    </tr>\n",
       "  </thead>\n",
       "  <tbody>\n",
       "    <tr>\n",
       "      <th>0</th>\n",
       "      <td>bloktan oluşan projede sinirli sayida dai̇rele...</td>\n",
       "    </tr>\n",
       "    <tr>\n",
       "      <th>1</th>\n",
       "      <td>dai̇releri̇mi̇z konumlarina göre fi̇yat farkli...</td>\n",
       "    </tr>\n",
       "    <tr>\n",
       "      <th>2</th>\n",
       "      <td>projemi̇z resi̇ndence ni̇teli̇ği̇nde olup hi̇s...</td>\n",
       "    </tr>\n",
       "    <tr>\n",
       "      <th>3</th>\n",
       "      <td>ai̇dat ödemesi̇ aylik tl di̇r</td>\n",
       "    </tr>\n",
       "    <tr>\n",
       "      <th>4</th>\n",
       "      <td>lütfen detayli bi̇lgi̇ i̇çi̇n arayiniz</td>\n",
       "    </tr>\n",
       "  </tbody>\n",
       "</table>\n",
       "</div>"
      ],
      "text/plain": [
       "  çeşme ayasaranda mevki̇i̇nde full deni̇z manzarali olup önü kapanmaz muhteşem sakiz adasi manzarali bahçeli̇ terasli dai̇relerden oluşan projede kapali otopark spor salonu güvenli̇k akilli kontrol makeni̇zmali ev kontrol si̇stemi̇ sonsuzluk havuzu si̇zleri̇ bekli̇yor\n",
       "0  bloktan oluşan projede sinirli sayida dai̇rele...                                                                                                                                                                                                                         \n",
       "1  dai̇releri̇mi̇z konumlarina göre fi̇yat farkli...                                                                                                                                                                                                                         \n",
       "2  projemi̇z resi̇ndence ni̇teli̇ği̇nde olup hi̇s...                                                                                                                                                                                                                         \n",
       "3                      ai̇dat ödemesi̇ aylik tl di̇r                                                                                                                                                                                                                         \n",
       "4             lütfen detayli bi̇lgi̇ i̇çi̇n arayiniz                                                                                                                                                                                                                         "
      ]
     },
     "execution_count": 18,
     "metadata": {},
     "output_type": "execute_result"
    }
   ],
   "source": [
    "datalem = pd.read_csv(\"lemmatized_sentences.csv\")\n",
    "datalem.head(5)"
   ]
  },
  {
   "cell_type": "code",
   "execution_count": 19,
   "id": "bcdeb776-f00c-4c76-a289-0154dc651633",
   "metadata": {},
   "outputs": [],
   "source": [
    "from sklearn.feature_extraction.text import TfidfVectorizer"
   ]
  },
  {
   "cell_type": "code",
   "execution_count": 20,
   "id": "e9b54ab2-deb2-4c59-a5aa-b02043ef3538",
   "metadata": {},
   "outputs": [
    {
     "data": {
      "text/plain": [
       "['çeşme ayasaranda mevki̇i̇nde full deni̇z manzarali olup önü kapanmaz muhteşem sakiz adasi manzarali bahçeli̇ terasli dai̇relerden oluşan projede kapali otopark spor salonu güvenli̇k akilli kontrol makeni̇zmali ev kontrol si̇stemi̇ sonsuzluk havuzu si̇zleri̇ bekli̇yor',\n",
       " 'bloktan oluşan projede sinirli sayida dai̇releri̇mi̇z kalmiştir',\n",
       " 'dai̇releri̇mi̇z konumlarina göre fi̇yat farkliliği göstermektedi̇r']"
      ]
     },
     "execution_count": 20,
     "metadata": {},
     "output_type": "execute_result"
    }
   ],
   "source": [
    "#ön işlenmiş token listelerini tekrar metine çeviriyoruz\n",
    "lemmatized_texts = [' '.join(tokens) for tokens in tokenized_corpus_lemmatized]\n",
    "\n",
    "lemmatized_texts[:3]"
   ]
  },
  {
   "cell_type": "code",
   "execution_count": 21,
   "id": "e29e7424-696d-43af-bde6-4484c5447940",
   "metadata": {},
   "outputs": [
    {
     "name": "stdout",
     "output_type": "stream",
     "text": [
      "   aalaçam  aaç  abanuz  abartılmamış  abd  abdi  abdulhami  abdullah  \\\n",
      "0      0.0  0.0     0.0           0.0  0.0   0.0        0.0       0.0   \n",
      "1      0.0  0.0     0.0           0.0  0.0   0.0        0.0       0.0   \n",
      "2      0.0  0.0     0.0           0.0  0.0   0.0        0.0       0.0   \n",
      "3      0.0  0.0     0.0           0.0  0.0   0.0        0.0       0.0   \n",
      "4      0.0  0.0     0.0           0.0  0.0   0.0        0.0       0.0   \n",
      "\n",
      "   abdurrahi  abdurrahman  ...  وضمان  ولاء  ومحترمة  وننفذ  وهي  ووكالات  \\\n",
      "0        0.0          0.0  ...    0.0   0.0      0.0    0.0  0.0      0.0   \n",
      "1        0.0          0.0  ...    0.0   0.0      0.0    0.0  0.0      0.0   \n",
      "2        0.0          0.0  ...    0.0   0.0      0.0    0.0  0.0      0.0   \n",
      "3        0.0          0.0  ...    0.0   0.0      0.0    0.0  0.0      0.0   \n",
      "4        0.0          0.0  ...    0.0   0.0      0.0    0.0  0.0      0.0   \n",
      "\n",
      "   يرتفع  يعزز  يلماز  يوم  \n",
      "0    0.0   0.0    0.0  0.0  \n",
      "1    0.0   0.0    0.0  0.0  \n",
      "2    0.0   0.0    0.0  0.0  \n",
      "3    0.0   0.0    0.0  0.0  \n",
      "4    0.0   0.0    0.0  0.0  \n",
      "\n",
      "[5 rows x 19069 columns]\n"
     ]
    }
   ],
   "source": [
    "#tf-idf vektöritizeri başlatma\n",
    "vectorizer = TfidfVectorizer()\n",
    "\n",
    "#tf-idf vektörlerini dönüştürür.\n",
    "tfidf_matrix = vectorizer.fit_transform(lemmatized_texts)\n",
    "\n",
    "#tf-idf vektörleştirme işleminde kullanılan tüm kelimelerin listesini döndürür.\n",
    "feature_names = vectorizer.get_feature_names_out()\n",
    "\n",
    "#tf-idf matrisini pandas dataframeine dönüştürme\n",
    "tfidf_df = pd.DataFrame(tfidf_matrix.toarray(), columns=feature_names)\n",
    "\n",
    "print(tfidf_df.head())\n",
    "\n",
    "tfidf_df.to_csv(\"tfidf_lemmatized.csv\", index=False)"
   ]
  },
  {
   "cell_type": "code",
   "execution_count": 22,
   "id": "26316691-dbb2-4ef0-9b98-6957aaa8e1d9",
   "metadata": {},
   "outputs": [
    {
     "name": "stdout",
     "output_type": "stream",
     "text": [
      "İlk cümlede en yüksek TF-IDF skoruna sahip 5 kelime:\n",
      "kontrol      0.366885\n",
      "manzarali    0.242981\n",
      "sakiz        0.223762\n",
      "makeni       0.223762\n",
      "zmali        0.223762\n",
      "Name: 0, dtype: float64\n"
     ]
    }
   ],
   "source": [
    "#ilk cümlenin tf-idf skorlarını alma\n",
    "first_sentence_vector = tfidf_df.iloc[0]\n",
    "\n",
    "#skorları sıralama küçükten büyüğe\n",
    "top_5_words = first_sentence_vector.sort_values(ascending=False).head(5)\n",
    "\n",
    "print(\"İlk cümlede en yüksek TF-IDF skoruna sahip 5 kelime:\")\n",
    "print(top_5_words)"
   ]
  },
  {
   "cell_type": "code",
   "execution_count": 23,
   "id": "b987349b-7f92-498d-80bc-e985348a70f6",
   "metadata": {},
   "outputs": [
    {
     "name": "stdout",
     "output_type": "stream",
     "text": [
      "balkon: 1.0000\n",
      "banyo: 0.3274\n",
      "wc: 0.3071\n",
      "cam: 0.2723\n",
      "bulunmaktadir: 0.2116\n",
      "mutfak: 0.2052\n"
     ]
    }
   ],
   "source": [
    "import numpy as np\n",
    "from sklearn.metrics.pairwise import cosine_similarity\n",
    "\n",
    "#kelime vektörlerine bakacağız\n",
    "balkon_index = feature_names.tolist().index('balkon')\n",
    "\n",
    "balkon_vector = tfidf_matrix[:, balkon_index].toarray()\n",
    "\n",
    "tfidf_vectors = tfidf_matrix.toarray()\n",
    "\n",
    "similarities = cosine_similarity(balkon_vector.T, tfidf_vectors.T)\n",
    "\n",
    "similarities = similarities.flatten()\n",
    "top_5_indices = similarities.argsort()[-6:][::-1]\n",
    "\n",
    "for index in top_5_indices:\n",
    "    print(f\"{feature_names[index]}: {similarities[index]:.4f}\")"
   ]
  },
  {
   "cell_type": "code",
   "execution_count": 24,
   "id": "3e83ec41-bb77-45cc-90a9-ae0bd775d4be",
   "metadata": {},
   "outputs": [
    {
     "name": "stdout",
     "output_type": "stream",
     "text": [
      "Requirement already satisfied: gensim in c:\\users\\elif\\anaconda3\\lib\\site-packages (4.3.3)\n",
      "Requirement already satisfied: numpy<2.0,>=1.18.5 in c:\\users\\elif\\anaconda3\\lib\\site-packages (from gensim) (1.26.4)\n",
      "Requirement already satisfied: scipy<1.14.0,>=1.7.0 in c:\\users\\elif\\anaconda3\\lib\\site-packages (from gensim) (1.13.1)\n",
      "Requirement already satisfied: smart-open>=1.8.1 in c:\\users\\elif\\anaconda3\\lib\\site-packages (from gensim) (7.1.0)\n",
      "Requirement already satisfied: wrapt in c:\\users\\elif\\anaconda3\\lib\\site-packages (from smart-open>=1.8.1->gensim) (1.14.1)\n",
      "Note: you may need to restart the kernel to use updated packages.\n"
     ]
    }
   ],
   "source": [
    "pip install gensim"
   ]
  },
  {
   "cell_type": "code",
   "execution_count": 25,
   "id": "6970e26c-5275-4929-96b0-197e3d6eef0a",
   "metadata": {},
   "outputs": [
    {
     "name": "stderr",
     "output_type": "stream",
     "text": [
      "C:\\Users\\Elif\\anaconda3\\Lib\\site-packages\\paramiko\\transport.py:219: CryptographyDeprecationWarning: Blowfish has been deprecated and will be removed in a future release\n",
      "  \"class\": algorithms.Blowfish,\n"
     ]
    }
   ],
   "source": [
    "import gensim\n",
    "from gensim.models import Word2Vec\n",
    "from nltk.stem import WordNetLemmatizer, PorterStemmer"
   ]
  },
  {
   "cell_type": "code",
   "execution_count": 26,
   "id": "63dd3a36-52c4-4690-bac6-3b3bc6043e92",
   "metadata": {},
   "outputs": [
    {
     "data": {
      "text/html": [
       "<div>\n",
       "<style scoped>\n",
       "    .dataframe tbody tr th:only-of-type {\n",
       "        vertical-align: middle;\n",
       "    }\n",
       "\n",
       "    .dataframe tbody tr th {\n",
       "        vertical-align: top;\n",
       "    }\n",
       "\n",
       "    .dataframe thead th {\n",
       "        text-align: right;\n",
       "    }\n",
       "</style>\n",
       "<table border=\"1\" class=\"dataframe\">\n",
       "  <thead>\n",
       "    <tr style=\"text-align: right;\">\n",
       "      <th></th>\n",
       "      <th>çeşme ayasaranda mevki̇i̇nde full deni̇z manzarali olup önü kapanmaz muhteşem sakiz adasi manzarali bahçeli̇ terasli dai̇relerden oluşan projede kapali otopark spor salonu güvenli̇k akilli kontrol makeni̇zmali ev kontrol si̇stemi̇ sonsuzluk havuzu si̇zleri̇ bekli̇yor</th>\n",
       "    </tr>\n",
       "  </thead>\n",
       "  <tbody>\n",
       "    <tr>\n",
       "      <th>0</th>\n",
       "      <td>bloktan oluşan projede sinirli sayida dai̇rele...</td>\n",
       "    </tr>\n",
       "    <tr>\n",
       "      <th>1</th>\n",
       "      <td>dai̇releri̇mi̇z konumlarina göre fi̇yat farkli...</td>\n",
       "    </tr>\n",
       "    <tr>\n",
       "      <th>2</th>\n",
       "      <td>projemi̇z resi̇ndence ni̇teli̇ği̇nde olup hi̇s...</td>\n",
       "    </tr>\n",
       "    <tr>\n",
       "      <th>3</th>\n",
       "      <td>ai̇dat ödemesi̇ aylik tl di̇r</td>\n",
       "    </tr>\n",
       "    <tr>\n",
       "      <th>4</th>\n",
       "      <td>lütfen detayli bi̇lgi̇ i̇çi̇n arayiniz</td>\n",
       "    </tr>\n",
       "  </tbody>\n",
       "</table>\n",
       "</div>"
      ],
      "text/plain": [
       "  çeşme ayasaranda mevki̇i̇nde full deni̇z manzarali olup önü kapanmaz muhteşem sakiz adasi manzarali bahçeli̇ terasli dai̇relerden oluşan projede kapali otopark spor salonu güvenli̇k akilli kontrol makeni̇zmali ev kontrol si̇stemi̇ sonsuzluk havuzu si̇zleri̇ bekli̇yor\n",
       "0  bloktan oluşan projede sinirli sayida dai̇rele...                                                                                                                                                                                                                         \n",
       "1  dai̇releri̇mi̇z konumlarina göre fi̇yat farkli...                                                                                                                                                                                                                         \n",
       "2  projemi̇z resi̇ndence ni̇teli̇ği̇nde olup hi̇s...                                                                                                                                                                                                                         \n",
       "3                      ai̇dat ödemesi̇ aylik tl di̇r                                                                                                                                                                                                                         \n",
       "4             lütfen detayli bi̇lgi̇ i̇çi̇n arayiniz                                                                                                                                                                                                                         "
      ]
     },
     "execution_count": 26,
     "metadata": {},
     "output_type": "execute_result"
    }
   ],
   "source": [
    "datalem = pd.read_csv(\"lemmatized_sentences.csv\")\n",
    "datalem.head(5)"
   ]
  },
  {
   "cell_type": "code",
   "execution_count": 27,
   "id": "814e7535-ffbd-4b72-8d1b-6dcbbd169232",
   "metadata": {},
   "outputs": [
    {
     "name": "stdout",
     "output_type": "stream",
     "text": [
      "lemmatized_model_cbow_window2_dim100 model saved!\n",
      "lemmatized_model_skipgram_window2_dim100 model saved!\n",
      "lemmatized_model_cbow_window4_dim100 model saved!\n",
      "lemmatized_model_skipgram_window4_dim100 model saved!\n",
      "lemmatized_model_cbow_window2_dim300 model saved!\n",
      "lemmatized_model_skipgram_window2_dim300 model saved!\n",
      "lemmatized_model_cbow_window4_dim300 model saved!\n",
      "lemmatized_model_skipgram_window4_dim300 model saved!\n",
      "stemmed_model_cbow_window2_dim100 model saved!\n",
      "stemmed_model_skipgram_window2_dim100 model saved!\n",
      "stemmed_model_cbow_window4_dim100 model saved!\n",
      "stemmed_model_skipgram_window4_dim100 model saved!\n",
      "stemmed_model_cbow_window2_dim300 model saved!\n",
      "stemmed_model_skipgram_window2_dim300 model saved!\n",
      "stemmed_model_cbow_window4_dim300 model saved!\n",
      "stemmed_model_skipgram_window4_dim300 model saved!\n"
     ]
    }
   ],
   "source": [
    "parameters = [\n",
    "    {'model_type': 'cbow', 'window': 2, 'vector_size': 100},\n",
    "    {'model_type': 'skipgram', 'window': 2, 'vector_size': 100},\n",
    "    {'model_type': 'cbow', 'window': 4, 'vector_size': 100},\n",
    "    {'model_type': 'skipgram', 'window': 4, 'vector_size': 100},\n",
    "    {'model_type': 'cbow', 'window': 2, 'vector_size': 300},\n",
    "    {'model_type': 'skipgram', 'window': 2, 'vector_size': 300},\n",
    "    {'model_type': 'cbow', 'window': 4, 'vector_size': 300},\n",
    "    {'model_type': 'skipgram', 'window': 4, 'vector_size': 300}\n",
    "]\n",
    "\n",
    "def train_and_save_model(corpus, params, model_name):\n",
    "    model = Word2Vec(corpus, vector_size=params['vector_size'], window=params['window'], min_count=1, sg=1 if params['model_type'] == 'skipgram' else 0)\n",
    "    model.save(f\"{model_name}_{params['model_type']}_window{params['window']}_dim{params['vector_size']}.model\")\n",
    "    print(f\"{model_name}_{params['model_type']}_window{params['window']}_dim{params['vector_size']} model saved!\")\n",
    "\n",
    "for param in parameters:\n",
    "    train_and_save_model(tokenized_corpus_lemmatized, param, \"lemmatized_model\")\n",
    "\n",
    "for param in parameters:\n",
    "    train_and_save_model(tokenized_corpus_stemmed, param, \"stemmed_model\")"
   ]
  },
  {
   "cell_type": "code",
   "execution_count": 28,
   "id": "53cb7df8-6634-4bdf-99db-7b9af72a1345",
   "metadata": {},
   "outputs": [],
   "source": [
    "from gensim.models import Word2Vec"
   ]
  },
  {
   "cell_type": "code",
   "execution_count": 29,
   "id": "6f4c5811-d7d2-49fb-b822-fea1d96fa0ab",
   "metadata": {},
   "outputs": [
    {
     "name": "stdout",
     "output_type": "stream",
     "text": [
      "\n",
      "Lemmatized CBOW Window 2 Dim 100 Modeli - 'balkon' ile En Benzer 3 Kelime:\n",
      "Kelime: tuvalet, Benzerlik Skoru: 0.998314619064331\n",
      "Kelime: mutfak, Benzerlik Skoru: 0.9978002309799194\n",
      "Kelime: wc, Benzerlik Skoru: 0.9962867498397827\n",
      "\n",
      "Stemmed Skipgram Window 4 Dim 100 Modeli - 'balkon' ile En Benzer 3 Kelime:\n",
      "Kelime: balkonu, Benzerlik Skoru: 0.9604199528694153\n",
      "Kelime: balkonlar, Benzerlik Skoru: 0.9474343657493591\n",
      "Kelime: tuvalet, Benzerlik Skoru: 0.9438657760620117\n",
      "\n",
      "Lemmatized Skipgram Window 2 Dim 300 Modeli - 'balkon' ile En Benzer 3 Kelime:\n",
      "Kelime: tuvalet, Benzerlik Skoru: 0.9850988388061523\n",
      "Kelime: balkonu, Benzerlik Skoru: 0.9845200181007385\n",
      "Kelime: alaturka, Benzerlik Skoru: 0.9794520735740662\n"
     ]
    }
   ],
   "source": [
    "model_1 = Word2Vec.load(\"lemmatized_model_cbow_window2_dim100.model\")\n",
    "model_2 = Word2Vec.load(\"stemmed_model_skipgram_window4_dim100.model\")\n",
    "model_3 = Word2Vec.load(\"lemmatized_model_skipgram_window2_dim300.model\")\n",
    "\n",
    "def print_similar_words(model, model_name):\n",
    "    similarity = model.wv.most_similar('balkon', topn=3)\n",
    "    print(f\"\\n{model_name} Modeli - 'balkon' ile En Benzer 3 Kelime:\")\n",
    "    for word, score in similarity:\n",
    "        print(f\"Kelime: {word}, Benzerlik Skoru: {score}\")\n",
    "\n",
    "print_similar_words(model_1, \"Lemmatized CBOW Window 2 Dim 100\")\n",
    "print_similar_words(model_2, \"Stemmed Skipgram Window 4 Dim 100\")\n",
    "print_similar_words(model_3, \"Lemmatized Skipgram Window 2 Dim 300\")"
   ]
  },
  {
   "cell_type": "code",
   "execution_count": 32,
   "id": "2b14ec59-e728-40c0-bd03-572fabf0a0c6",
   "metadata": {},
   "outputs": [
    {
     "data": {
      "text/html": [
       "<div>\n",
       "<style scoped>\n",
       "    .dataframe tbody tr th:only-of-type {\n",
       "        vertical-align: middle;\n",
       "    }\n",
       "\n",
       "    .dataframe tbody tr th {\n",
       "        vertical-align: top;\n",
       "    }\n",
       "\n",
       "    .dataframe thead th {\n",
       "        text-align: right;\n",
       "    }\n",
       "</style>\n",
       "<table border=\"1\" class=\"dataframe\">\n",
       "  <thead>\n",
       "    <tr style=\"text-align: right;\">\n",
       "      <th></th>\n",
       "      <th>çeşm ayasaranda mevki̇i̇nd full deni̇z manzarali olup önü kapanmaz muhteşem sakiz adasi manzarali bahçeli̇ terasli dai̇relerden oluşan projed kapali otopark spor salonu güvenli̇k akilli kontrol makeni̇zmali ev kontrol si̇stemi̇ sonsuzluk havuzu si̇zleri̇ bekli̇yor</th>\n",
       "    </tr>\n",
       "  </thead>\n",
       "  <tbody>\n",
       "    <tr>\n",
       "      <th>0</th>\n",
       "      <td>bloktan oluşan projed sinirli sayida dai̇reler...</td>\n",
       "    </tr>\n",
       "    <tr>\n",
       "      <th>1</th>\n",
       "      <td>dai̇releri̇mi̇z konumlarina göre fi̇yat farkli...</td>\n",
       "    </tr>\n",
       "    <tr>\n",
       "      <th>2</th>\n",
       "      <td>projemi̇z resi̇nd ni̇teli̇ği̇nd olup hi̇ss tap...</td>\n",
       "    </tr>\n",
       "    <tr>\n",
       "      <th>3</th>\n",
       "      <td>ai̇dat ödemesi̇ aylik tl di̇r</td>\n",
       "    </tr>\n",
       "    <tr>\n",
       "      <th>4</th>\n",
       "      <td>lütfen detayli bi̇lgi̇ i̇çi̇n arayiniz</td>\n",
       "    </tr>\n",
       "  </tbody>\n",
       "</table>\n",
       "</div>"
      ],
      "text/plain": [
       "  çeşm ayasaranda mevki̇i̇nd full deni̇z manzarali olup önü kapanmaz muhteşem sakiz adasi manzarali bahçeli̇ terasli dai̇relerden oluşan projed kapali otopark spor salonu güvenli̇k akilli kontrol makeni̇zmali ev kontrol si̇stemi̇ sonsuzluk havuzu si̇zleri̇ bekli̇yor\n",
       "0  bloktan oluşan projed sinirli sayida dai̇reler...                                                                                                                                                                                                                      \n",
       "1  dai̇releri̇mi̇z konumlarina göre fi̇yat farkli...                                                                                                                                                                                                                      \n",
       "2  projemi̇z resi̇nd ni̇teli̇ği̇nd olup hi̇ss tap...                                                                                                                                                                                                                      \n",
       "3                      ai̇dat ödemesi̇ aylik tl di̇r                                                                                                                                                                                                                      \n",
       "4             lütfen detayli bi̇lgi̇ i̇çi̇n arayiniz                                                                                                                                                                                                                      "
      ]
     },
     "execution_count": 32,
     "metadata": {},
     "output_type": "execute_result"
    }
   ],
   "source": [
    "datastem = pd.read_csv(\"stemmed_sentences.csv\")\n",
    "datastem.head(5)"
   ]
  },
  {
   "cell_type": "code",
   "execution_count": 33,
   "id": "aee86f46-a138-4845-80ce-f49e4a98892c",
   "metadata": {},
   "outputs": [
    {
     "data": {
      "text/plain": [
       "['çeşm ayasaranda mevki̇i̇nd full deni̇z manzarali olup önü kapanmaz muhteşem sakiz adasi manzarali bahçeli̇ terasli dai̇relerden oluşan projed kapali otopark spor salonu güvenli̇k akilli kontrol makeni̇zmali ev kontrol si̇stemi̇ sonsuzluk havuzu si̇zleri̇ bekli̇yor',\n",
       " 'bloktan oluşan projed sinirli sayida dai̇releri̇mi̇z kalmiştir',\n",
       " 'dai̇releri̇mi̇z konumlarina göre fi̇yat farkliliği göstermektedi̇r']"
      ]
     },
     "execution_count": 33,
     "metadata": {},
     "output_type": "execute_result"
    }
   ],
   "source": [
    "stemmed_texts = [' '.join(tokens) for tokens in tokenized_corpus_stemmed]\n",
    "\n",
    "stemmed_texts[:3]"
   ]
  },
  {
   "cell_type": "code",
   "execution_count": 34,
   "id": "338153c0-dfa7-4ccc-963c-26199384a5e2",
   "metadata": {},
   "outputs": [
    {
     "name": "stdout",
     "output_type": "stream",
     "text": [
      "   aalaçam  aaç  abanuz  abartılmamış  abd  abdi  abdulhami  abdullah  \\\n",
      "0      0.0  0.0     0.0           0.0  0.0   0.0        0.0       0.0   \n",
      "1      0.0  0.0     0.0           0.0  0.0   0.0        0.0       0.0   \n",
      "2      0.0  0.0     0.0           0.0  0.0   0.0        0.0       0.0   \n",
      "3      0.0  0.0     0.0           0.0  0.0   0.0        0.0       0.0   \n",
      "4      0.0  0.0     0.0           0.0  0.0   0.0        0.0       0.0   \n",
      "\n",
      "   abdurrahi  abdurrahman  ...  وضمان  ولاء  ومحترمة  وننفذ  وهي  ووكالات  \\\n",
      "0        0.0          0.0  ...    0.0   0.0      0.0    0.0  0.0      0.0   \n",
      "1        0.0          0.0  ...    0.0   0.0      0.0    0.0  0.0      0.0   \n",
      "2        0.0          0.0  ...    0.0   0.0      0.0    0.0  0.0      0.0   \n",
      "3        0.0          0.0  ...    0.0   0.0      0.0    0.0  0.0      0.0   \n",
      "4        0.0          0.0  ...    0.0   0.0      0.0    0.0  0.0      0.0   \n",
      "\n",
      "   يرتفع  يعزز  يلماز  يوم  \n",
      "0    0.0   0.0    0.0  0.0  \n",
      "1    0.0   0.0    0.0  0.0  \n",
      "2    0.0   0.0    0.0  0.0  \n",
      "3    0.0   0.0    0.0  0.0  \n",
      "4    0.0   0.0    0.0  0.0  \n",
      "\n",
      "[5 rows x 18875 columns]\n"
     ]
    }
   ],
   "source": [
    "#tf-idf vektöritizeri başlatma\n",
    "vectorizer = TfidfVectorizer()\n",
    "\n",
    "#tf-idf vektörlerini dönüştürür.\n",
    "tfidf_matrix = vectorizer.fit_transform(stemmed_texts)\n",
    "\n",
    "#tf-idf vektörleştirme işleminde kullanılan tüm kelimelerin listesini döndürür.\n",
    "feature_names = vectorizer.get_feature_names_out()\n",
    "\n",
    "#tf-idf matrisini pandas dataframeine dönüştürme\n",
    "tfidf_df = pd.DataFrame(tfidf_matrix.toarray(), columns=feature_names)\n",
    "\n",
    "print(tfidf_df.head())\n",
    "tfidf_df.to_csv(\"tfidf_stemmed.csv\", index=False)"
   ]
  },
  {
   "cell_type": "code",
   "execution_count": 35,
   "id": "836e3749-e274-40c5-8f01-c4e8e9f8b867",
   "metadata": {},
   "outputs": [
    {
     "name": "stdout",
     "output_type": "stream",
     "text": [
      "İlk cümlede en yüksek TF-IDF skoruna sahip 5 kelime:\n",
      "kontrol      0.366298\n",
      "manzarali    0.242592\n",
      "zmali        0.223404\n",
      "makeni       0.223404\n",
      "sakiz        0.223404\n",
      "Name: 0, dtype: float64\n"
     ]
    }
   ],
   "source": [
    "#ilk cümlenin tf-idf skorlarını alma\n",
    "first_sentence_vector = tfidf_df.iloc[0]\n",
    "\n",
    "#skorları sıralama (küçükten büyüğe)\n",
    "top_5_words = first_sentence_vector.sort_values(ascending=False).head(5)\n",
    "\n",
    "print(\"İlk cümlede en yüksek TF-IDF skoruna sahip 5 kelime:\")\n",
    "print(top_5_words)"
   ]
  },
  {
   "cell_type": "code",
   "execution_count": 36,
   "id": "65ae3b74-49d4-43e0-a0da-e3afcaa3ccaa",
   "metadata": {},
   "outputs": [
    {
     "name": "stdout",
     "output_type": "stream",
     "text": [
      "kat: 1.0000\n",
      "ara: 0.3149\n",
      "mülki: 0.2477\n",
      "yetli: 0.2266\n",
      "sayisi: 0.1922\n",
      "mülkiyetli: 0.1673\n"
     ]
    }
   ],
   "source": [
    "#kelime vektörlerine bakacağız\n",
    "kat_index = feature_names.tolist().index('kat')\n",
    "\n",
    "kat_vector = tfidf_matrix[:, kat_index].toarray()\n",
    "\n",
    "tfidf_vectors = tfidf_matrix.toarray()\n",
    "\n",
    "similarities = cosine_similarity(kat_vector.T, tfidf_vectors.T)\n",
    "\n",
    "similarities = similarities.flatten()\n",
    "top_5_indices = similarities.argsort()[-6:][::-1]\n",
    "\n",
    "for index in top_5_indices:\n",
    "    print(f\"{feature_names[index]}: {similarities[index]:.4f}\")"
   ]
  },
  {
   "cell_type": "code",
   "execution_count": 37,
   "id": "dd4be23d-1a15-47b5-b20c-4d8ecf8bb226",
   "metadata": {},
   "outputs": [
    {
     "data": {
      "text/html": [
       "<div>\n",
       "<style scoped>\n",
       "    .dataframe tbody tr th:only-of-type {\n",
       "        vertical-align: middle;\n",
       "    }\n",
       "\n",
       "    .dataframe tbody tr th {\n",
       "        vertical-align: top;\n",
       "    }\n",
       "\n",
       "    .dataframe thead th {\n",
       "        text-align: right;\n",
       "    }\n",
       "</style>\n",
       "<table border=\"1\" class=\"dataframe\">\n",
       "  <thead>\n",
       "    <tr style=\"text-align: right;\">\n",
       "      <th></th>\n",
       "      <th>çeşm ayasaranda mevki̇i̇nd full deni̇z manzarali olup önü kapanmaz muhteşem sakiz adasi manzarali bahçeli̇ terasli dai̇relerden oluşan projed kapali otopark spor salonu güvenli̇k akilli kontrol makeni̇zmali ev kontrol si̇stemi̇ sonsuzluk havuzu si̇zleri̇ bekli̇yor</th>\n",
       "    </tr>\n",
       "  </thead>\n",
       "  <tbody>\n",
       "    <tr>\n",
       "      <th>0</th>\n",
       "      <td>bloktan oluşan projed sinirli sayida dai̇reler...</td>\n",
       "    </tr>\n",
       "    <tr>\n",
       "      <th>1</th>\n",
       "      <td>dai̇releri̇mi̇z konumlarina göre fi̇yat farkli...</td>\n",
       "    </tr>\n",
       "    <tr>\n",
       "      <th>2</th>\n",
       "      <td>projemi̇z resi̇nd ni̇teli̇ği̇nd olup hi̇ss tap...</td>\n",
       "    </tr>\n",
       "    <tr>\n",
       "      <th>3</th>\n",
       "      <td>ai̇dat ödemesi̇ aylik tl di̇r</td>\n",
       "    </tr>\n",
       "    <tr>\n",
       "      <th>4</th>\n",
       "      <td>lütfen detayli bi̇lgi̇ i̇çi̇n arayiniz</td>\n",
       "    </tr>\n",
       "  </tbody>\n",
       "</table>\n",
       "</div>"
      ],
      "text/plain": [
       "  çeşm ayasaranda mevki̇i̇nd full deni̇z manzarali olup önü kapanmaz muhteşem sakiz adasi manzarali bahçeli̇ terasli dai̇relerden oluşan projed kapali otopark spor salonu güvenli̇k akilli kontrol makeni̇zmali ev kontrol si̇stemi̇ sonsuzluk havuzu si̇zleri̇ bekli̇yor\n",
       "0  bloktan oluşan projed sinirli sayida dai̇reler...                                                                                                                                                                                                                      \n",
       "1  dai̇releri̇mi̇z konumlarina göre fi̇yat farkli...                                                                                                                                                                                                                      \n",
       "2  projemi̇z resi̇nd ni̇teli̇ği̇nd olup hi̇ss tap...                                                                                                                                                                                                                      \n",
       "3                      ai̇dat ödemesi̇ aylik tl di̇r                                                                                                                                                                                                                      \n",
       "4             lütfen detayli bi̇lgi̇ i̇çi̇n arayiniz                                                                                                                                                                                                                      "
      ]
     },
     "execution_count": 37,
     "metadata": {},
     "output_type": "execute_result"
    }
   ],
   "source": [
    "datastem = pd.read_csv(\"stemmed_sentences.csv\")\n",
    "datastem.head(5)"
   ]
  },
  {
   "cell_type": "code",
   "execution_count": 38,
   "id": "ebdf3dd4-38a8-45bc-ba42-42a3b2a0c36c",
   "metadata": {},
   "outputs": [
    {
     "name": "stdout",
     "output_type": "stream",
     "text": [
      "lemmatized_model_cbow_window2_dim100 model saved!\n",
      "lemmatized_model_skipgram_window2_dim100 model saved!\n",
      "lemmatized_model_cbow_window4_dim100 model saved!\n",
      "lemmatized_model_skipgram_window4_dim100 model saved!\n",
      "lemmatized_model_cbow_window2_dim300 model saved!\n",
      "lemmatized_model_skipgram_window2_dim300 model saved!\n",
      "lemmatized_model_cbow_window4_dim300 model saved!\n",
      "lemmatized_model_skipgram_window4_dim300 model saved!\n",
      "stemmed_model_cbow_window2_dim100 model saved!\n",
      "stemmed_model_skipgram_window2_dim100 model saved!\n",
      "stemmed_model_cbow_window4_dim100 model saved!\n",
      "stemmed_model_skipgram_window4_dim100 model saved!\n",
      "stemmed_model_cbow_window2_dim300 model saved!\n",
      "stemmed_model_skipgram_window2_dim300 model saved!\n",
      "stemmed_model_cbow_window4_dim300 model saved!\n",
      "stemmed_model_skipgram_window4_dim300 model saved!\n"
     ]
    }
   ],
   "source": [
    "parameters = [\n",
    "    {'model_type': 'cbow', 'window': 2, 'vector_size': 100},\n",
    "    {'model_type': 'skipgram', 'window': 2, 'vector_size': 100},\n",
    "    {'model_type': 'cbow', 'window': 4, 'vector_size': 100},\n",
    "    {'model_type': 'skipgram', 'window': 4, 'vector_size': 100},\n",
    "    {'model_type': 'cbow', 'window': 2, 'vector_size': 300},\n",
    "    {'model_type': 'skipgram', 'window': 2, 'vector_size': 300},\n",
    "    {'model_type': 'cbow', 'window': 4, 'vector_size': 300},\n",
    "    {'model_type': 'skipgram', 'window': 4, 'vector_size': 300}\n",
    "]\n",
    "\n",
    "def train_and_save_model(corpus, params, model_name):\n",
    "    model = Word2Vec(corpus, vector_size=params['vector_size'], window=params['window'], min_count=1, sg=1 if params['model_type'] == 'skipgram' else 0)\n",
    "    model.save(f\"{model_name}_{params['model_type']}_window{params['window']}_dim{params['vector_size']}.model\")\n",
    "    print(f\"{model_name}_{params['model_type']}_window{params['window']}_dim{params['vector_size']} model saved!\")\n",
    "\n",
    "for param in parameters:\n",
    "    train_and_save_model(tokenized_corpus_lemmatized, param, \"lemmatized_model\")\n",
    "\n",
    "for param in parameters:\n",
    "    train_and_save_model(tokenized_corpus_stemmed, param, \"stemmed_model\")"
   ]
  },
  {
   "cell_type": "code",
   "execution_count": 39,
   "id": "0f343a99-77de-43e6-916e-481d99dc922f",
   "metadata": {},
   "outputs": [
    {
     "name": "stdout",
     "output_type": "stream",
     "text": [
      "\n",
      "Lemmatized CBOW Window 2 Dim 100 Modeli - 'kat' ile En Benzer 3 Kelime:\n",
      "Kelime: ara, Benzerlik Skoru: 0.9927991032600403\n",
      "Kelime: cephe, Benzerlik Skoru: 0.9857612252235413\n",
      "Kelime: asansörlü, Benzerlik Skoru: 0.9827660918235779\n",
      "\n",
      "Stemmed Skipgram Window 4 Dim 100 Modeli - 'kat' ile En Benzer 3 Kelime:\n",
      "Kelime: bulunduğu, Benzerlik Skoru: 0.8890132904052734\n",
      "Kelime: ara, Benzerlik Skoru: 0.8837543725967407\n",
      "Kelime: sayisi, Benzerlik Skoru: 0.8814883232116699\n",
      "\n",
      "Lemmatized Skipgram Window 2 Dim 300 Modeli - 'kat' ile En Benzer 3 Kelime:\n",
      "Kelime: ara, Benzerlik Skoru: 0.9584789276123047\n",
      "Kelime: sayisi, Benzerlik Skoru: 0.9502706527709961\n",
      "Kelime: mülki̇yetli̇, Benzerlik Skoru: 0.9425742030143738\n"
     ]
    }
   ],
   "source": [
    "model_1 = Word2Vec.load(\"lemmatized_model_cbow_window2_dim100.model\")\n",
    "model_2 = Word2Vec.load(\"stemmed_model_skipgram_window4_dim100.model\")\n",
    "model_3 = Word2Vec.load(\"lemmatized_model_skipgram_window2_dim300.model\")\n",
    "\n",
    "def print_similar_words(model, model_name):\n",
    "    similarity = model.wv.most_similar('kat', topn=3)\n",
    "    print(f\"\\n{model_name} Modeli - 'kat' ile En Benzer 3 Kelime:\")\n",
    "    for word, score in similarity:\n",
    "        print(f\"Kelime: {word}, Benzerlik Skoru: {score}\")\n",
    "\n",
    "print_similar_words(model_1, \"Lemmatized CBOW Window 2 Dim 100\")\n",
    "print_similar_words(model_2, \"Stemmed Skipgram Window 4 Dim 100\")\n",
    "print_similar_words(model_3, \"Lemmatized Skipgram Window 2 Dim 300\")"
   ]
  },
  {
   "cell_type": "code",
   "execution_count": null,
   "id": "5d81f641-c565-4dd8-ac1b-fce34164c270",
   "metadata": {},
   "outputs": [],
   "source": []
  }
 ],
 "metadata": {
  "kernelspec": {
   "display_name": "Python 3 (ipykernel)",
   "language": "python",
   "name": "python3"
  },
  "language_info": {
   "codemirror_mode": {
    "name": "ipython",
    "version": 3
   },
   "file_extension": ".py",
   "mimetype": "text/x-python",
   "name": "python",
   "nbconvert_exporter": "python",
   "pygments_lexer": "ipython3",
   "version": "3.11.7"
  }
 },
 "nbformat": 4,
 "nbformat_minor": 5
}
